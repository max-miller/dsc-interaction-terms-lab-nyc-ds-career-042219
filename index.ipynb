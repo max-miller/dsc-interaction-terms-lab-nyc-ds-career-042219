{
 "cells": [
  {
   "cell_type": "markdown",
   "metadata": {},
   "source": [
    "# Interactions - Lab"
   ]
  },
  {
   "cell_type": "markdown",
   "metadata": {},
   "source": [
    "## Introduction"
   ]
  },
  {
   "cell_type": "markdown",
   "metadata": {},
   "source": [
    "In this lab, you'll explore interactions in the Boston Housing data set."
   ]
  },
  {
   "cell_type": "markdown",
   "metadata": {},
   "source": [
    "## Objectives"
   ]
  },
  {
   "cell_type": "markdown",
   "metadata": {},
   "source": [
    "You will be able to:\n",
    "- Understand what interactions are\n",
    "- Understand how to accommodate for interactions in regression"
   ]
  },
  {
   "cell_type": "markdown",
   "metadata": {},
   "source": [
    "## Build a baseline model "
   ]
  },
  {
   "cell_type": "markdown",
   "metadata": {},
   "source": [
    "You'll use a couple of built-in functions, which we imported for you below."
   ]
  },
  {
   "cell_type": "code",
   "execution_count": 1,
   "metadata": {},
   "outputs": [],
   "source": [
    "from sklearn.linear_model import LinearRegression\n",
    "from sklearn.model_selection import cross_val_score\n",
    "from sklearn.model_selection import KFold\n",
    "from sklearn.datasets import load_boston\n",
    "import pandas as pd\n",
    "import numpy as np\n",
    "import matplotlib.pyplot as plt"
   ]
  },
  {
   "cell_type": "markdown",
   "metadata": {},
   "source": [
    "Import the Boston data set using `load_boston()`. We won't bother to preprocess the data in this lab. If you still want to build a model in the end, you can do that, but this lab will just focus on finding meaningful insights in interactions and how they can improve $R^2$ values."
   ]
  },
  {
   "cell_type": "code",
   "execution_count": 2,
   "metadata": {},
   "outputs": [],
   "source": [
    "regression = LinearRegression()\n",
    "boston = load_boston()"
   ]
  },
  {
   "cell_type": "markdown",
   "metadata": {},
   "source": [
    "Create a baseline model which includes all the variables in the Boston housing data set to predict the house prices. Then use 10-fold cross-validation and report the mean $R^2$ value as the baseline $R^2$."
   ]
  },
  {
   "cell_type": "code",
   "execution_count": 15,
   "metadata": {
    "scrolled": true
   },
   "outputs": [],
   "source": [
    "## code here\n",
    "regression.fit(boston.data, boston.target)\n",
    "\n",
    "crossvalidation = KFold(n_splits=10, shuffle=True, random_state=1)\n",
    "\n",
    "baseline = np.mean(cross_val_score(regression, boston.data, boston.target, scoring=\"r2\", cv=crossvalidation))"
   ]
  },
  {
   "cell_type": "code",
   "execution_count": null,
   "metadata": {},
   "outputs": [],
   "source": []
  },
  {
   "cell_type": "code",
   "execution_count": 16,
   "metadata": {},
   "outputs": [
    {
     "data": {
      "text/plain": [
       "0.7190106820189475"
      ]
     },
     "execution_count": 16,
     "metadata": {},
     "output_type": "execute_result"
    }
   ],
   "source": [
    "baseline"
   ]
  },
  {
   "cell_type": "markdown",
   "metadata": {},
   "source": [
    "## See how interactions improve your baseline"
   ]
  },
  {
   "cell_type": "markdown",
   "metadata": {},
   "source": [
    "Next, create all possible combinations of interactions, loop over them and add them to the baseline model one by one to see how they affect the $R^2$. We'll look at the 3 interactions which have the biggest effect on our $R^2$, so print out the top 3 combinations.\n",
    "\n",
    "You will create a for loop to loop through all the combinations of 2 predictors. You can use `combinations` from itertools to create a list of all the pairwise combinations. To find more info on how this is done, have a look [here](https://docs.python.org/2/library/itertools.html)."
   ]
  },
  {
   "cell_type": "code",
   "execution_count": 17,
   "metadata": {},
   "outputs": [],
   "source": [
    "from itertools import combinations\n",
    "combinations = list(combinations(boston.feature_names, 2))"
   ]
  },
  {
   "cell_type": "code",
   "execution_count": 31,
   "metadata": {},
   "outputs": [
    {
     "data": {
      "text/html": [
       "<div>\n",
       "<style scoped>\n",
       "    .dataframe tbody tr th:only-of-type {\n",
       "        vertical-align: middle;\n",
       "    }\n",
       "\n",
       "    .dataframe tbody tr th {\n",
       "        vertical-align: top;\n",
       "    }\n",
       "\n",
       "    .dataframe thead th {\n",
       "        text-align: right;\n",
       "    }\n",
       "</style>\n",
       "<table border=\"1\" class=\"dataframe\">\n",
       "  <thead>\n",
       "    <tr style=\"text-align: right;\">\n",
       "      <th></th>\n",
       "      <th>target</th>\n",
       "      <th>CRIM</th>\n",
       "      <th>ZN</th>\n",
       "      <th>INDUS</th>\n",
       "      <th>CHAS</th>\n",
       "      <th>NOX</th>\n",
       "      <th>RM</th>\n",
       "      <th>AGE</th>\n",
       "      <th>DIS</th>\n",
       "      <th>RAD</th>\n",
       "      <th>TAX</th>\n",
       "      <th>PTRATIO</th>\n",
       "      <th>B</th>\n",
       "      <th>LSTAT</th>\n",
       "    </tr>\n",
       "  </thead>\n",
       "  <tbody>\n",
       "    <tr>\n",
       "      <th>0</th>\n",
       "      <td>24.0</td>\n",
       "      <td>0.00632</td>\n",
       "      <td>18.0</td>\n",
       "      <td>2.31</td>\n",
       "      <td>0.0</td>\n",
       "      <td>0.538</td>\n",
       "      <td>6.575</td>\n",
       "      <td>65.2</td>\n",
       "      <td>4.0900</td>\n",
       "      <td>1.0</td>\n",
       "      <td>296.0</td>\n",
       "      <td>15.3</td>\n",
       "      <td>396.90</td>\n",
       "      <td>4.98</td>\n",
       "    </tr>\n",
       "    <tr>\n",
       "      <th>1</th>\n",
       "      <td>21.6</td>\n",
       "      <td>0.02731</td>\n",
       "      <td>0.0</td>\n",
       "      <td>7.07</td>\n",
       "      <td>0.0</td>\n",
       "      <td>0.469</td>\n",
       "      <td>6.421</td>\n",
       "      <td>78.9</td>\n",
       "      <td>4.9671</td>\n",
       "      <td>2.0</td>\n",
       "      <td>242.0</td>\n",
       "      <td>17.8</td>\n",
       "      <td>396.90</td>\n",
       "      <td>9.14</td>\n",
       "    </tr>\n",
       "    <tr>\n",
       "      <th>2</th>\n",
       "      <td>34.7</td>\n",
       "      <td>0.02729</td>\n",
       "      <td>0.0</td>\n",
       "      <td>7.07</td>\n",
       "      <td>0.0</td>\n",
       "      <td>0.469</td>\n",
       "      <td>7.185</td>\n",
       "      <td>61.1</td>\n",
       "      <td>4.9671</td>\n",
       "      <td>2.0</td>\n",
       "      <td>242.0</td>\n",
       "      <td>17.8</td>\n",
       "      <td>392.83</td>\n",
       "      <td>4.03</td>\n",
       "    </tr>\n",
       "    <tr>\n",
       "      <th>3</th>\n",
       "      <td>33.4</td>\n",
       "      <td>0.03237</td>\n",
       "      <td>0.0</td>\n",
       "      <td>2.18</td>\n",
       "      <td>0.0</td>\n",
       "      <td>0.458</td>\n",
       "      <td>6.998</td>\n",
       "      <td>45.8</td>\n",
       "      <td>6.0622</td>\n",
       "      <td>3.0</td>\n",
       "      <td>222.0</td>\n",
       "      <td>18.7</td>\n",
       "      <td>394.63</td>\n",
       "      <td>2.94</td>\n",
       "    </tr>\n",
       "    <tr>\n",
       "      <th>4</th>\n",
       "      <td>36.2</td>\n",
       "      <td>0.06905</td>\n",
       "      <td>0.0</td>\n",
       "      <td>2.18</td>\n",
       "      <td>0.0</td>\n",
       "      <td>0.458</td>\n",
       "      <td>7.147</td>\n",
       "      <td>54.2</td>\n",
       "      <td>6.0622</td>\n",
       "      <td>3.0</td>\n",
       "      <td>222.0</td>\n",
       "      <td>18.7</td>\n",
       "      <td>396.90</td>\n",
       "      <td>5.33</td>\n",
       "    </tr>\n",
       "  </tbody>\n",
       "</table>\n",
       "</div>"
      ],
      "text/plain": [
       "   target     CRIM    ZN  INDUS  CHAS    NOX     RM   AGE     DIS  RAD    TAX  \\\n",
       "0    24.0  0.00632  18.0   2.31   0.0  0.538  6.575  65.2  4.0900  1.0  296.0   \n",
       "1    21.6  0.02731   0.0   7.07   0.0  0.469  6.421  78.9  4.9671  2.0  242.0   \n",
       "2    34.7  0.02729   0.0   7.07   0.0  0.469  7.185  61.1  4.9671  2.0  242.0   \n",
       "3    33.4  0.03237   0.0   2.18   0.0  0.458  6.998  45.8  6.0622  3.0  222.0   \n",
       "4    36.2  0.06905   0.0   2.18   0.0  0.458  7.147  54.2  6.0622  3.0  222.0   \n",
       "\n",
       "   PTRATIO       B  LSTAT  \n",
       "0     15.3  396.90   4.98  \n",
       "1     17.8  396.90   9.14  \n",
       "2     17.8  392.83   4.03  \n",
       "3     18.7  394.63   2.94  \n",
       "4     18.7  396.90   5.33  "
      ]
     },
     "execution_count": 31,
     "metadata": {},
     "output_type": "execute_result"
    }
   ],
   "source": [
    "y = pd.DataFrame(boston.target,columns = [\"target\"])\n",
    "df = pd.DataFrame(boston.data, columns = boston.feature_names)\n",
    "all_data = pd.concat([y,df], axis = 1)\n",
    "all_data.head()"
   ]
  },
  {
   "cell_type": "code",
   "execution_count": 35,
   "metadata": {},
   "outputs": [],
   "source": [
    "r2_values = []\n",
    "for combo in combinations:\n",
    "    temp = pd.DataFrame(boston.data, columns = boston.feature_names)\n",
    "    temp['inter'] = temp[combo[0]]*temp[combo[1]]\n",
    "    regression.fit(temp, all_data['target'])\n",
    "    crossvalidation = KFold(n_splits=10, shuffle=True, random_state=1)\n",
    "    r2 = np.mean(cross_val_score(regression, temp, all_data['target'], scoring=\"r2\", cv=crossvalidation))\n",
    "    r2_values.append((combo,r2))"
   ]
  },
  {
   "cell_type": "code",
   "execution_count": 36,
   "metadata": {},
   "outputs": [
    {
     "data": {
      "text/plain": [
       "[(('CRIM', 'ZN'), 0.7180486571803364),\n",
       " (('CRIM', 'INDUS'), 0.7180024566678991),\n",
       " (('CRIM', 'CHAS'), 0.7224266827041406),\n",
       " (('CRIM', 'NOX'), 0.7209568446771786),\n",
       " (('CRIM', 'RM'), 0.7081164870054808),\n",
       " (('CRIM', 'AGE'), 0.718638564907109),\n",
       " (('CRIM', 'DIS'), 0.717756843237861),\n",
       " (('CRIM', 'RAD'), 0.7218426607693014),\n",
       " (('CRIM', 'TAX'), 0.721193712503856),\n",
       " (('CRIM', 'PTRATIO'), 0.7203531457728605),\n",
       " (('CRIM', 'B'), 0.7146287027789205),\n",
       " (('CRIM', 'LSTAT'), 0.7204731402012061),\n",
       " (('ZN', 'INDUS'), 0.7245130249509673),\n",
       " (('ZN', 'CHAS'), 0.7181494046844513),\n",
       " (('ZN', 'NOX'), 0.7183045979214395),\n",
       " (('ZN', 'RM'), 0.72882064115271),\n",
       " (('ZN', 'AGE'), 0.7181988644469852),\n",
       " (('ZN', 'DIS'), 0.7198623421930641),\n",
       " (('ZN', 'RAD'), 0.7183416822181858),\n",
       " (('ZN', 'TAX'), 0.7165591526708506),\n",
       " (('ZN', 'PTRATIO'), 0.7182396917152198),\n",
       " (('ZN', 'B'), 0.7178806692926967),\n",
       " (('ZN', 'LSTAT'), 0.7189128377220495),\n",
       " (('INDUS', 'CHAS'), 0.7180330023698097),\n",
       " (('INDUS', 'NOX'), 0.7186439479475218),\n",
       " (('INDUS', 'RM'), 0.7577805143520179),\n",
       " (('INDUS', 'AGE'), 0.7222863283272001),\n",
       " (('INDUS', 'DIS'), 0.7283635108497113),\n",
       " (('INDUS', 'RAD'), 0.7183108068285016),\n",
       " (('INDUS', 'TAX'), 0.7223792494260635),\n",
       " (('INDUS', 'PTRATIO'), 0.7182884354247877),\n",
       " (('INDUS', 'B'), 0.7180904055577046),\n",
       " (('INDUS', 'LSTAT'), 0.7193723158986417),\n",
       " (('CHAS', 'NOX'), 0.7184577020551837),\n",
       " (('CHAS', 'RM'), 0.7086604865139805),\n",
       " (('CHAS', 'AGE'), 0.7177241172798559),\n",
       " (('CHAS', 'DIS'), 0.7171246240196909),\n",
       " (('CHAS', 'RAD'), 0.7199062643047318),\n",
       " (('CHAS', 'TAX'), 0.7204452777744264),\n",
       " (('CHAS', 'PTRATIO'), 0.7168977502868772),\n",
       " (('CHAS', 'B'), 0.7196376401298081),\n",
       " (('CHAS', 'LSTAT'), 0.7210130989247112),\n",
       " (('NOX', 'RM'), 0.7453599495065311),\n",
       " (('NOX', 'AGE'), 0.7178273549805458),\n",
       " (('NOX', 'DIS'), 0.7195305930076337),\n",
       " (('NOX', 'RAD'), 0.7216402620446948),\n",
       " (('NOX', 'TAX'), 0.7194683252011801),\n",
       " (('NOX', 'PTRATIO'), 0.7208556256614026),\n",
       " (('NOX', 'B'), 0.7192004212855702),\n",
       " (('NOX', 'LSTAT'), 0.7172607859057882),\n",
       " (('RM', 'AGE'), 0.7406598760890253),\n",
       " (('RM', 'DIS'), 0.7342130965590978),\n",
       " (('RM', 'RAD'), 0.7682152400234054),\n",
       " (('RM', 'TAX'), 0.7750525123747651),\n",
       " (('RM', 'PTRATIO'), 0.7633759067582868),\n",
       " (('RM', 'B'), 0.7385665707082879),\n",
       " (('RM', 'LSTAT'), 0.7864889421124032),\n",
       " (('AGE', 'DIS'), 0.7210193945912328),\n",
       " (('AGE', 'RAD'), 0.7169145930312537),\n",
       " (('AGE', 'TAX'), 0.7176729020685164),\n",
       " (('AGE', 'PTRATIO'), 0.7195247635095344),\n",
       " (('AGE', 'B'), 0.7209442240026325),\n",
       " (('AGE', 'LSTAT'), 0.7137298809460878),\n",
       " (('DIS', 'RAD'), 0.7177953316377021),\n",
       " (('DIS', 'TAX'), 0.7188339338593153),\n",
       " (('DIS', 'PTRATIO'), 0.7212530527937477),\n",
       " (('DIS', 'B'), 0.7191799627871102),\n",
       " (('DIS', 'LSTAT'), 0.7182106823765708),\n",
       " (('RAD', 'TAX'), 0.7184832333208993),\n",
       " (('RAD', 'PTRATIO'), 0.7180755401006278),\n",
       " (('RAD', 'B'), 0.7175471138330047),\n",
       " (('RAD', 'LSTAT'), 0.7160169205618111),\n",
       " (('TAX', 'PTRATIO'), 0.7220753714337268),\n",
       " (('TAX', 'B'), 0.7175783335179237),\n",
       " (('TAX', 'LSTAT'), 0.7168545256468933),\n",
       " (('PTRATIO', 'B'), 0.7187747903466472),\n",
       " (('PTRATIO', 'LSTAT'), 0.7189192431009295),\n",
       " (('B', 'LSTAT'), 0.7178930818773741)]"
      ]
     },
     "execution_count": 36,
     "metadata": {},
     "output_type": "execute_result"
    }
   ],
   "source": [
    "## code to find top 3 interactions by R^2 value here\n",
    "top3 = []\n",
    "for n in range(0,len(r2_values)):\n",
    "    "
   ]
  },
  {
   "cell_type": "markdown",
   "metadata": {},
   "source": [
    "## Look at the top 3 interactions: \"RM\" as a confounding factor"
   ]
  },
  {
   "cell_type": "markdown",
   "metadata": {},
   "source": [
    "The top three interactions seem to involve \"RM\", the number of rooms as a confounding variable for all of them. Let's have a look at interaction plots for all three of them. This exercise will involve:\n",
    "\n",
    "- splitting the data up in 3 groups: one for houses with a few rooms, one for houses with a \"medium\" amount of rooms, one for a high amount of rooms.\n",
    "- Create a function `build_interaction_rm`. This function takes an argument `varname` (which can be set equal to the column name as a string) and a column `description` (which describes the variable or varname, to be included on the x-axis of the plot). The function outputs a plot that uses \"RM\" as a confounding factor. Each plot should have three regression lines, one for each level of \"RM.\" "
   ]
  },
  {
   "cell_type": "markdown",
   "metadata": {},
   "source": [
    "The data has been split into high, medium and low number of rooms for you."
   ]
  },
  {
   "cell_type": "code",
   "execution_count": null,
   "metadata": {},
   "outputs": [],
   "source": [
    "rm = np.asarray(df[[\"RM\"]]).reshape(len(df[[\"RM\"]]))"
   ]
  },
  {
   "cell_type": "code",
   "execution_count": null,
   "metadata": {},
   "outputs": [],
   "source": [
    "high_rm = all_data[rm > np.percentile(rm, 67)]\n",
    "med_rm = all_data[(rm > np.percentile(rm, 33)) & (rm <= np.percentile(rm, 67))]\n",
    "low_rm = all_data[rm <= np.percentile(rm, 33)]"
   ]
  },
  {
   "cell_type": "markdown",
   "metadata": {},
   "source": [
    "Create `build_interaction_rm`."
   ]
  },
  {
   "cell_type": "code",
   "execution_count": null,
   "metadata": {},
   "outputs": [],
   "source": [
    "def build_interaction_rm(varname, description):\n",
    "    pass"
   ]
  },
  {
   "cell_type": "markdown",
   "metadata": {},
   "source": [
    "Next, use build_interaction_rm with the three variables that came out with the highest effect on $R^2$"
   ]
  },
  {
   "cell_type": "code",
   "execution_count": null,
   "metadata": {},
   "outputs": [],
   "source": [
    "# first plot"
   ]
  },
  {
   "cell_type": "code",
   "execution_count": null,
   "metadata": {},
   "outputs": [],
   "source": [
    "# second plot"
   ]
  },
  {
   "cell_type": "code",
   "execution_count": null,
   "metadata": {},
   "outputs": [],
   "source": [
    "# third plot"
   ]
  },
  {
   "cell_type": "markdown",
   "metadata": {},
   "source": [
    "## Build a final model including all three interactions at once"
   ]
  },
  {
   "cell_type": "markdown",
   "metadata": {},
   "source": [
    "Use 10-fold cross validation."
   ]
  },
  {
   "cell_type": "code",
   "execution_count": null,
   "metadata": {},
   "outputs": [],
   "source": [
    "# code here"
   ]
  },
  {
   "cell_type": "code",
   "execution_count": null,
   "metadata": {},
   "outputs": [],
   "source": [
    "# code here"
   ]
  },
  {
   "cell_type": "markdown",
   "metadata": {},
   "source": [
    "Our $R^2$ has increased considerably! Let's have a look in statsmodels to see if all these interactions are significant."
   ]
  },
  {
   "cell_type": "code",
   "execution_count": null,
   "metadata": {},
   "outputs": [],
   "source": [
    "# code here"
   ]
  },
  {
   "cell_type": "markdown",
   "metadata": {},
   "source": [
    "What is your conclusion here?"
   ]
  },
  {
   "cell_type": "code",
   "execution_count": null,
   "metadata": {},
   "outputs": [],
   "source": [
    "# formulate your conclusion"
   ]
  },
  {
   "cell_type": "markdown",
   "metadata": {},
   "source": [
    "## Summary"
   ]
  },
  {
   "cell_type": "markdown",
   "metadata": {},
   "source": [
    "You should now understand how to include interaction effects in your model! As you can see, interactions can have a strong impact on linear regression models, and they should always be considered when you are constructing your models."
   ]
  }
 ],
 "metadata": {
  "kernelspec": {
   "display_name": "Python 3",
   "language": "python",
   "name": "python3"
  },
  "language_info": {
   "codemirror_mode": {
    "name": "ipython",
    "version": 3
   },
   "file_extension": ".py",
   "mimetype": "text/x-python",
   "name": "python",
   "nbconvert_exporter": "python",
   "pygments_lexer": "ipython3",
   "version": "3.6.6"
  }
 },
 "nbformat": 4,
 "nbformat_minor": 2
}
